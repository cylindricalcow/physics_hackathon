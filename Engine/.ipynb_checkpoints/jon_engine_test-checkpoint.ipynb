{
 "cells": [
  {
   "cell_type": "code",
   "execution_count": 46,
   "metadata": {},
   "outputs": [],
   "source": [
    "\"\"\"\n",
    "Created on Thur Aug 30 2018\n",
    "\n",
    "@author: Jonathan Richman\n",
    "\"\"\"\n",
    "\n",
    "import numpy as np\n",
    "\n",
    "'''\n",
    "This is going to be a simple version of the game with limited features.\n",
    "I just want to make a simple character class that will be general for PC, NPC,\n",
    "and Monsters.\n",
    "\n",
    "'''\n",
    "\n",
    "class Character:\n",
    "    def __init__(self, current_hp, max_hp, ac, att_bonus_1,att_1,att_bonus_2,att_2,att_bonus_3,att_3,att_bonus_4,att_4):\n",
    "        self.current_hp=current_hp\n",
    "        self.max_hp=max_hp\n",
    "        self.ac=ac\n",
    "        self.attacks = {}\n",
    "        self.attacks[1] = att_1, att_bonus_1\n",
    "        self.attacks[2] = att_2, att_bonus_2\n",
    "        self.attacks[3] = att_3, att_bonus_3\n",
    "        self.attacks[4] = att_4, att_bonus_4\n",
    "\n",
    "\n",
    "    def roll_attack(self, num):\n",
    "        #add attack bonus to roll\n",
    "        \n",
    "        return np.random.randint(0,high=20)+self.attacks[num][1]\n",
    "    \n",
    "    def ac_check(self, attack_roll):\n",
    "        #check to see if attack went through AC\n",
    "        if attack_roll <= self.ac:\n",
    "            return True\n",
    "        else:\n",
    "            return False\n",
    "\n",
    "    def check_damage(self, ac_bool, num,bonus_damage=0):\n",
    "        #if attack hit, update hp\n",
    "        #attack is an array for the dice to roll e.g. [2,8] is 2d8\n",
    "        #implement bonus damage later\n",
    "        if ac_bool:\n",
    "            damage = bonus_damage\n",
    "            for i in range(self.attacks[num][0][0]):\n",
    "                damage+=np.random.randint(0,high=self.attacks[num][0][1])\n",
    "            \n",
    "            self.current_hp -= damage"
   ]
  },
  {
   "cell_type": "code",
   "execution_count": 47,
   "metadata": {},
   "outputs": [],
   "source": [
    "human_fighter = Character(50,50,16,6,[2,6],6,[1,6],4,[1,4],8,[4,6])"
   ]
  },
  {
   "cell_type": "code",
   "execution_count": 48,
   "metadata": {},
   "outputs": [],
   "source": [
    "rolls=[]\n",
    "for i in range(10000):\n",
    "    rolls.append(human_fighter.roll_attack(1))"
   ]
  },
  {
   "cell_type": "code",
   "execution_count": 49,
   "metadata": {},
   "outputs": [],
   "source": [
    "import matplotlib.pyplot as plt"
   ]
  },
  {
   "cell_type": "code",
   "execution_count": 50,
   "metadata": {},
   "outputs": [
    {
     "data": {
      "text/plain": [
       "(array([1044.,  965., 1013., 1059.,  994.,  986.,  964.,  990.,  985.,\n",
       "        1000.]),\n",
       " array([ 6. ,  7.9,  9.8, 11.7, 13.6, 15.5, 17.4, 19.3, 21.2, 23.1, 25. ]),\n",
       " <a list of 10 Patch objects>)"
      ]
     },
     "execution_count": 50,
     "metadata": {},
     "output_type": "execute_result"
    },
    {
     "data": {
      "image/png": "[encoded data removed]",
      "text/plain": [
       "<matplotlib.figure.Figure at 0x290377949b0>"
      ]
     },
     "metadata": {},
     "output_type": "display_data"
    }
   ],
   "source": [
    "plt.hist(rolls)"
   ]
  },
  {
   "cell_type": "code",
   "execution_count": 51,
   "metadata": {},
   "outputs": [],
   "source": [
    "roll=human_fighter.roll_attack(1)"
   ]
  },
  {
   "cell_type": "code",
   "execution_count": 52,
   "metadata": {},
   "outputs": [],
   "source": [
    "ac_bool=human_fighter.ac_check(roll)"
   ]
  },
  {
   "cell_type": "code",
   "execution_count": 53,
   "metadata": {},
   "outputs": [],
   "source": [
    "human_fighter.check_damage(ac_bool,1)"
   ]
  },
  {
   "cell_type": "code",
   "execution_count": 54,
   "metadata": {},
   "outputs": [
    {
     "data": {
      "text/plain": [
       "46"
      ]
     },
     "execution_count": 54,
     "metadata": {},
     "output_type": "execute_result"
    }
   ],
   "source": [
    "human_fighter.current_hp"
   ]
  },
  {
   "cell_type": "code",
   "execution_count": 55,
   "metadata": {},
   "outputs": [
    {
     "data": {
      "text/plain": [
       "50"
      ]
     },
     "execution_count": 55,
     "metadata": {},
     "output_type": "execute_result"
    }
   ],
   "source": [
    "human_fighter.max_hp"
   ]
  },
  {
   "cell_type": "code",
   "execution_count": null,
   "metadata": {},
   "outputs": [],
   "source": []
  }
 ],
 "metadata": {
  "kernelspec": {
   "display_name": "Python 3",
   "language": "python",
   "name": "python3"
  },
  "language_info": {
   "codemirror_mode": {
    "name": "ipython",
    "version": 3
   },
   "file_extension": ".py",
   "mimetype": "text/x-python",
   "name": "python",
   "nbconvert_exporter": "python",
   "pygments_lexer": "ipython3",
   "version": "3.6.4"
  }
 },
 "nbformat": 4,
 "nbformat_minor": 2
}
