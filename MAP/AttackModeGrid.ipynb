{
 "cells": [
  {
   "cell_type": "code",
   "execution_count": 123,
   "metadata": {
    "collapsed": false
   },
   "outputs": [
    {
     "data": {
      "image/png": "[encoded data removed]",
      "text/plain": [
       "<matplotlib.figure.Figure at 0x156520b9c18>"
      ]
     },
     "metadata": {},
     "output_type": "display_data"
    }
   ],
   "source": [
    "import geopandas as gpd\n",
    "from shapely.geometry import Polygon, Point\n",
    "import matplotlib as plt\n",
    "import numpy as np\n",
    "%matplotlib inline\n",
    "\n",
    "\n",
    "# creates 10x10 grid of square Polygons and creates corresponding array\n",
    "polygon_list = []\n",
    "for i in range(0,10):\n",
    "    for j in range(0,10):\n",
    "        polygon_list.append(Polygon([(i+1, j), (i, j), (i, j+1), (i+1, j+1)]))\n",
    "\n",
    "# creates arrays that track what's in the grid\n",
    "charcter_array = np.zeros((10,10))\n",
    "place_array = np.zeros((10,10))\n",
    "\n",
    "# creates GeoSeries out of polygons\n",
    "g = gpd.GeoSeries(polygon_list)\n",
    "\n",
    "# 10x10 grid is base of map\n",
    "ax = g.plot(color='#f2ecbc')"
   ]
  },
  {
   "cell_type": "code",
   "execution_count": null,
   "metadata": {
    "collapsed": false
   },
   "outputs": [],
   "source": [
    "# different characters can be encoded with different ints\n",
    "def LocateCharacter(x,y):\n",
    "    global charcter_array\n",
    "    charcter_array[x][y] = 1\n",
    "    return None"
   ]
  },
  {
   "cell_type": "code",
   "execution_count": null,
   "metadata": {
    "collapsed": false
   },
   "outputs": [],
   "source": [
    "# differnet sorts of events can be encoded with different ints\n",
    "def LocateEvent(x,y):\n",
    "    global place_array\n",
    "    place_array[x][y] = 1\n",
    "    return None"
   ]
  }
 ],
 "metadata": {
  "kernelspec": {
   "display_name": "Python [Root]",
   "language": "python",
   "name": "Python [Root]"
  },
  "language_info": {
   "codemirror_mode": {
    "name": "ipython",
    "version": 3
   },
   "file_extension": ".py",
   "mimetype": "text/x-python",
   "name": "python",
   "nbconvert_exporter": "python",
   "pygments_lexer": "ipython3",
   "version": "3.5.2"
  }
 },
 "nbformat": 4,
 "nbformat_minor": 0
}
