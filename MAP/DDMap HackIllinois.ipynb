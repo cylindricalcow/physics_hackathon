{
 "cells": [
  {
   "cell_type": "code",
   "execution_count": 9,
   "metadata": {
    "collapsed": false
   },
   "outputs": [],
   "source": [
    "import folium\n",
    "\n",
    "markers = []\n",
    "\n",
    "#Define coordinates of where we want to center our map, where user is\n",
    "uiuc_coords = [40.1100, -88.2272]\n",
    "person_coords = [40.1100, -88.2272]\n",
    "\n",
    "#Create the map\n",
    "my_map = folium.Map(location = uiuc_coords, zoom_start = 18)"
   ]
  },
  {
   "cell_type": "code",
   "execution_count": 10,
   "metadata": {
    "collapsed": false
   },
   "outputs": [
    {
     "data": {
      "text/plain": [
       "<folium.features.CircleMarker at 0x25111c3bcf8>"
      ]
     },
     "execution_count": 10,
     "metadata": {},
     "output_type": "execute_result"
    }
   ],
   "source": [
    "def PlaceMarkers(coords):\n",
    "    '''\n",
    "    Populates map with markers in list of specified locations.\n",
    "    coords: a list of lat/long coordinates\n",
    "    '''\n",
    "    for coord in coords:\n",
    "        folium.CircleMarker(coord, radius = 7, color = \"#800000\", fill = True).add_to(my_map)\n",
    "    return None\n",
    "\n",
    "# creates CircleMarker where player is\n",
    "folium.CircleMarker(person_coords, radius = 7, color = \"#0A8A9F\", popup = \"Your position\", fill = True).add_to(my_map)\n",
    "   "
   ]
  },
  {
   "cell_type": "code",
   "execution_count": 12,
   "metadata": {
    "collapsed": false,
    "scrolled": true
   },
   "outputs": [],
   "source": [
    "# Function for placing monsters on the map in DM Mode\n",
    "\n",
    "def PlaceMonster(map_object):\n",
    "    '''\n",
    "    map_object: folium map object\n",
    "    \n",
    "    One click places monster, double click removes monster\n",
    "    '''\n",
    "    my_map.add_child(folium.ClickForMarker())\n",
    "    return my_map"
   ]
  },
  {
   "cell_type": "code",
   "execution_count": 13,
   "metadata": {
    "collapsed": false
   },
   "outputs": [],
   "source": [
    "my_map.save('dd_map.html')"
   ]
  },
  {
   "cell_type": "code",
   "execution_count": 8,
   "metadata": {
    "collapsed": false
   },
   "outputs": [],
   "source": [
    "iframe = my_map._repr_html_()"
   ]
  }
 ],
 "metadata": {
  "kernelspec": {
   "display_name": "Python [Root]",
   "language": "python",
   "name": "Python [Root]"
  },
  "language_info": {
   "codemirror_mode": {
    "name": "ipython",
    "version": 3
   },
   "file_extension": ".py",
   "mimetype": "text/x-python",
   "name": "python",
   "nbconvert_exporter": "python",
   "pygments_lexer": "ipython3",
   "version": "3.5.2"
  }
 },
 "nbformat": 4,
 "nbformat_minor": 0
}
